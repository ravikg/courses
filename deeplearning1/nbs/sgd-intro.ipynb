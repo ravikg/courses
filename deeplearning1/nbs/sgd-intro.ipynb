{
 "cells": [
  {
   "cell_type": "markdown",
   "metadata": {
    "toc": "true"
   },
   "source": [
    "# Table of Contents\n",
    " <p>"
   ]
  },
  {
   "cell_type": "code",
   "execution_count": 1,
   "metadata": {
    "collapsed": true
   },
   "outputs": [],
   "source": [
    "%matplotlib inline\n",
    "import math,sys,os,numpy as np\n",
    "from numpy.random import random\n",
    "from matplotlib import pyplot as plt, rcParams, animation, rc\n",
    "from __future__ import print_function, division\n",
    "from ipywidgets import interact, interactive, fixed\n",
    "from ipywidgets.widgets import *\n",
    "rc('animation', html='html5')\n",
    "rcParams['figure.figsize'] = 3, 3\n",
    "%precision 4\n",
    "np.set_printoptions(precision=4, linewidth=100)"
   ]
  },
  {
   "cell_type": "code",
   "execution_count": 2,
   "metadata": {
    "collapsed": true
   },
   "outputs": [],
   "source": [
    "def lin(a,b,x): return a*x+b"
   ]
  },
  {
   "cell_type": "code",
   "execution_count": 3,
   "metadata": {
    "collapsed": true
   },
   "outputs": [],
   "source": [
    "a=3.\n",
    "b=8."
   ]
  },
  {
   "cell_type": "code",
   "execution_count": 4,
   "metadata": {
    "collapsed": true
   },
   "outputs": [],
   "source": [
    "n=30\n",
    "x = random(n)\n",
    "y = lin(a,b,x)"
   ]
  },
  {
   "cell_type": "code",
   "execution_count": 5,
   "metadata": {},
   "outputs": [
    {
     "data": {
      "text/plain": [
       "array([ 0.9305,  0.0643,  0.6584,  0.1006,  0.2313,  0.3854,  0.1546,  0.5983,  0.1679,  0.6053,\n",
       "        0.8129,  0.7752,  0.2247,  0.1457,  0.7345,  0.8624,  0.215 ,  0.7859,  0.3491,  0.5585,\n",
       "        0.4212,  0.6374,  0.8183,  0.1461,  0.7832,  0.898 ,  0.4985,  0.8631,  0.2586,  0.0206])"
      ]
     },
     "execution_count": 5,
     "metadata": {},
     "output_type": "execute_result"
    }
   ],
   "source": [
    "x"
   ]
  },
  {
   "cell_type": "code",
   "execution_count": 6,
   "metadata": {},
   "outputs": [
    {
     "data": {
      "text/plain": [
       "array([ 10.7914,   8.193 ,   9.9752,   8.3019,   8.6939,   9.1562,   8.4637,   9.795 ,   8.5037,\n",
       "         9.8158,  10.4386,  10.3257,   8.674 ,   8.4372,  10.2036,  10.5871,   8.6451,  10.3578,\n",
       "         9.0474,   9.6756,   9.2635,   9.9122,  10.4549,   8.4383,  10.3496,  10.6939,   9.4956,\n",
       "        10.5892,   8.7757,   8.0619])"
      ]
     },
     "execution_count": 6,
     "metadata": {},
     "output_type": "execute_result"
    }
   ],
   "source": [
    "y"
   ]
  },
  {
   "cell_type": "code",
   "execution_count": 7,
   "metadata": {},
   "outputs": [
    {
     "data": {
      "text/plain": [
       "<matplotlib.collections.PathCollection at 0x7fac7e1725c0>"
      ]
     },
     "execution_count": 7,
     "metadata": {},
     "output_type": "execute_result"
    },
    {
     "data": {
      "image/png": "[encoded data removed]",
      "text/plain": [
       "<matplotlib.figure.Figure at 0x7faca45549b0>"
      ]
     },
     "metadata": {},
     "output_type": "display_data"
    }
   ],
   "source": [
    "plt.scatter(x,y)"
   ]
  },
  {
   "cell_type": "code",
   "execution_count": 8,
   "metadata": {
    "collapsed": true
   },
   "outputs": [],
   "source": [
    "def sse(y,y_pred): return ((y-y_pred)**2).sum()\n",
    "def loss(y,a,b,x): return sse(y, lin(a,b,x))\n",
    "def avg_loss(y,a,b,x): return np.sqrt(loss(y,a,b,x)/n)"
   ]
  },
  {
   "cell_type": "code",
   "execution_count": 9,
   "metadata": {},
   "outputs": [
    {
     "data": {
      "text/plain": [
       "9.0364"
      ]
     },
     "execution_count": 9,
     "metadata": {},
     "output_type": "execute_result"
    }
   ],
   "source": [
    "a_guess=-1.\n",
    "b_guess=1.\n",
    "avg_loss(y, a_guess, b_guess, x)"
   ]
  },
  {
   "cell_type": "code",
   "execution_count": 10,
   "metadata": {
    "collapsed": true
   },
   "outputs": [],
   "source": [
    "lr=0.01\n",
    "# d[(y-(a*x+b))**2,b] = 2 (b + a x - y)      = 2 (y_pred - y)\n",
    "# d[(y-(a*x+b))**2,a] = 2 x (b + a x - y)    = x * dy/db"
   ]
  },
  {
   "cell_type": "code",
   "execution_count": 11,
   "metadata": {},
   "outputs": [],
   "source": [
    "def upd():\n",
    "    global a_guess, b_guess\n",
    "    y_pred = lin(a_guess, b_guess, x)\n",
    "    dydb = 2 * (y_pred - y)\n",
    "    dyda = x*dydb\n",
    "    a_guess -= lr*dyda.mean()\n",
    "    b_guess -= lr*dydb.mean()"
   ]
  },
  {
   "cell_type": "code",
   "execution_count": 12,
   "metadata": {},
   "outputs": [
    {
     "data": {
      "text/html": [
       "<video width=\"500\" height=\"400\" controls autoplay loop>\n",
       "  <source type=\"video/mp4\" src=\"data:video/mp4;base64,AAAAHGZ0eXBNNFYgAAACAGlzb21pc28yYXZjMQAAAAhmcmVlAABVCm1kYXQAAAKuBgX//6rcRem9\n",
       "5tlIt5Ys2CDZI+7veDI2NCAtIGNvcmUgMTQ4IHIyNjQzIDVjNjU3MDQgLSBILjI2NC9NUEVHLTQg\n",
       "QVZDIGNvZGVjIC0gQ29weWxlZnQgMjAwMy0yMDE1IC0gaHR0cDovL3d3dy52aWRlb2xhbi5vcmcv\n",
       "eDI2NC5odG1sIC0gb3B0aW9uczogY2FiYWM9MSByZWY9MyBkZWJsb2NrPTE6MDowIGFuYWx5c2U9\n",
       "MHgzOjB4MTEzIG1lPWhleCBzdWJtZT03IHBzeT0xIHBzeV9yZD0xLjAwOjAuMDAgbWl4ZWRfcmVm\n",
       "PTEgbWVfcmFuZ2U9MTYgY2hyb21hX21lPTEgdHJlbGxpcz0xIDh4OGRjdD0xIGNxbT0wIGRlYWR6\n",
       "b25lPTIxLDExIGZhc3RfcHNraXA9MSBjaHJvbWFfcXBfb2Zmc2V0PS0yIHRocmVhZHM9OSBsb29r\n",
       "YWhlYWRfdGhyZWFkcz0xIHNsaWNlZF90aHJlYWRzPTAgbnI9MCBkZWNpbWF0ZT0xIGludGVybGFj\n",
       "ZWQ9MCBibHVyYXlfY29tcGF0PTAgY29uc3RyYWluZWRfaW50cmE9MCBiZnJhbWVzPTMgYl9weXJh\n",
       "bWlkPTIgYl9hZGFwdD0xIGJfYmlhcz0wIGRpcmVjdD0xIHdlaWdodGI9MSBvcGVuX2dvcD0wIHdl\n",
       "aWdodHA9MiBrZXlpbnQ9MjUwIGtleWludF9taW49MTAgc2NlbmVjdXQ9NDAgaW50cmFfcmVmcmVz\n",
       "aD0wIHJjX2xvb2thaGVhZD00MCByYz1jcmYgbWJ0cmVlPTEgY3JmPTIzLjAgcWNvbXA9MC42MCBx\n",
       "cG1pbj0wIHFwbWF4PTY5IHFwc3RlcD00IGlwX3JhdGlvPTEuNDAgYXE9MToxLjAwAIAAABNaZYiE\n",
       "AD///vdonwKbWkN6gOSVxSXbT4H/q2dwfI/pAwAAAwAAAwAkAvzHv6EHQzQgAABQic/gsldNQVEG\n",
       "rVWJETueZW6CveofCONurjKq1mcfZ0P89EfiowXffzerReILorurz0Hw00X7IHiVKxzwYDZD0QxJ\n",
       "mjjow9WXmubobDkAApf5frBKmE+OHnMWgL4pbJEBZdYKjPywXpxDWA3tWbT0eB+hiPV7UuG1ImbX\n",
       "5uR6HRZf2qUF7NQo+v5FZh2Y92DKE23/rU35U8y5DvXE+tHTLJdhWB+Lw9aNhmt1AY/8ht/T6GSA\n",
       "u8Np04zGw9dM/4+KhpgNkulFi7AfIaCPGtpFXcCKMhLCYsF06SSSGF/ruAKw5k26UhM2GpfcTFuy\n",
       "LQG9MD95snV2D5WEC4Ri5eom50jZdIziK7PbHYbyz6zGIEiJqYa6Vwt03wtRo1CArUVX27ln0Lo9\n",
       "36ihEeUHyVU2PW71k2z1+zcJ0lxzjC5nnOtZdY+AzVpE546LGeLQo5+FU1dNnbIwr96UmGbk2kA7\n",
       "ynliqNt34h8WP3BNRMhdGlFIk6y+Mb9s2ki4ewySdvOgv4hMqI3MC777VVOQK4zI2VTHwo5N5gsh\n",
       "eig+Z+3x4c3vCLAfFme6sFm1mfEWF1JCnoiOYrECphWSJhrpV+FoF95ZhacnDt6txVTDjJ4LXzcD\n",
       "BsLuwIZ4WLZsFYg8vSZbALqCnitKcizNY5ie9iJK6VIw0jxfRb64kQBNfUUC/6qa2aVOZzUylXFs\n",
       "QavLMA8mYSU6it3Ev3Wg6PL0/VTPHXrkUun1nQovg6QPDGJAvVu9+peQXh/Q2YaP99l0W7MWMnAq\n",
       "NSZOQXfmM3oMXPrTC/Vn2kKrg7I8e3kAmiZtWyXuJeSsCxc7UFblZWhR+lgd1WrDaWLEdB6y06Ty\n",
       "5ayQpYwxXcPFC1AEZjkQDBgteApqdN6g7xS/6Cl9GKt+yH42Q6U7lm+DOuTi/kyvwOECBGXAJRLn\n",
       "sZXFEj8c/2i0KdEejcvAHc+wNoyPih8M6QnZJp+fmKk6A08n68G5/7Mn5IRuo8aikAPjM2SwmBE8\n",
       "JifKPtHttclWg2Tgr8/DzEGWuwm/FMfgrhIKy2hPu42utcKucJlWA7X7G0cjFHKEdHehxCfRTAA+\n",
       "8EVfOzJTrDtPS0fhCoUvo/y5EPCIup2pvU/fXExI09XGtY+sK92RjwFeZ68akNJR+3aCoMQLhO0d\n",
       "iW6giaRsdx5aqksgJuEKnf+3Vn9kpVbcTxRzdcVWZtJX50vHO6yAO4E2hABSi7ybjUg0Kenwy8Lp\n",
       "AFkzg8oqpEwGT6WTC0En3XKDzs99i1jVcLGtScFE1V4bQ6tkueXW3uiHQgeEoFbfJBjbiMyJkXJY\n",
       "ktvRl2oTkwivcpqtb5/Q2u9sk6rLhcEtqIL3AgBzHMjQmm+x4ltamQ3lxs0XiWtndSh3gvrp8ftm\n",
       "6ke0KP1BIEVgACHnbcQ12ZrYScMzxsSPBsg1eFjLn/q3t/l/bfZ91zYSOsDhOJtZIQ2rSGiVSxIU\n",
       "EWa8ltZ1BFDc80rPQl9ZpOOMEJF2Xg2oKJ72rFRdZ6MMFg/z+pfE1lz4DG9uU8sDV3tUxccb3eEZ\n",
       "AuByLtaVkFvEzHX6Ue0/eUu9L7qS05GBhNnymBEOd8PhZyF43+4QG/idreuqKx61j6KZBXdZRxxc\n",
       "NP4+5B6ghEGaWHfYRVeQnbsVoqiskTaHQzFOhtRiy5rduh57zPCZNxTV0QvqP5jP4C2eG+PE/GUJ\n",
       "2oGKH8andvVXHK0As9C1iREcmuIWy+MtTk+oKofD8oRJ4S5QsWTlTmPQqxmkIdrkmUB1qPoKyvMY\n",
       "HsnOsXh1C8J4H42n708i7bzD31ZTMzn4D0yl9h4A3MINOuFGJjfze2QdlO910Ic9YWJEVlBOWbVH\n",
       "RGwicrsR70CAj5PJAuCMuq/4ItrTlURyVIM5kKKk48VUq1tK060FJhWJIhVU0Qmvuk/RlT3PN5fq\n",
       "7osC7HFxKpC4j0A68FbQ1vfcU3WlsJdY80M7cZ1JaWvROwhREBEkHDdgd3sUulz235JV7h35mcnl\n",
       "/k1AEgiU1CaPldt6ZNL+rE/f5IYQOKbRTHhwCQaHlFtJ6za+r/xhKaITYsbouGfpmjqxd8b3+qsy\n",
       "e6la2Qov+g6j/+Zl+dbYWPuDWP6ISkD+gGqbAZJM0R5AC7hbA7gMsZ3HcEECMeR2FR9nodrdiC8a\n",
       "UZXunShn/trZRiD77jKJS5LxynPAZt0DayL4Q/8CTYAwWn1DL694SYQf/xFaZsqcAZe71X/lv8W5\n",
       "/fTG+ThgV5aP80ohV9Fo9lDvdpkvu79/tU8Goec+8l1LI42hUfviqmYGQwQ+AGAsKbYqo8h3LMAn\n",
       "p1WxziuZ33PRlpVEbCJSiNEO2svU78eXgDxzCpbhFdEXOYvl9Ed90+laY9kXbfZuoQefOukDH8uD\n",
       "3BvecFKLIKlb418GbMI7Vqvz8mdgLONqdzbOczcH4lh/LnXwk3p+sSW//GRlMjEY42AfmP0lqqnQ\n",
       "+XDgZFkHprebaqZgXq6EH2q8ayF3d7v9xdwWMVMEy/WBh7iM9Po5sUM2m+OvSga03RnRVUkmpyXX\n",
       "HZ0lo8sqsu9wbp9Kj56bexBdC7OxUehvtAkMxQAHbAXQToDrLMKbd++NPxtnQWGVmk5+XrBmgD54\n",
       "SKdrMP4D6k7z6a6r14KfzC36L9XhXmSWFEWLEbAWjY66bnFwj5gRHmtaEOL2vsS0gWRVTBQAoGjU\n",
       "cJC5JFg9FiMEs8QgNtaRSCmvsEGTibBhF8vnJJfeYi03wvtbNWUWlzgCt0EdWdzfw7Ki2yXSzQdj\n",
       "0fkFareauIZpAsFrqQI1fKs9IDNQDqqbn3SEUHtbYaVs1VrdYlpPO9D/2R9azAavXMb2/RBTAAYV\n",
       "cYShGIVEL4rIGUVkITSzWjLP6ypOlVeSZ/CW8o846076aJwudziLOcNExRHqke+DWLAc1wsPdX1s\n",
       "1CdfBMMfTNH9fNo8Y28wqly7yHdtturaSm8ojrCjONDbenDIfw0CmLb+zrPVM1GGXPWkl+pZphm8\n",
       "w4JyCiy2QZvc0nig3CyfesChCv2hKPUDdkBylHREb7fZVX64ahfe39oGe0oEIQ8Ute8VZdZd1V1W\n",
       "zPkIjRGd4clIGFoFYcDb5/KTyNRNMaS2pqW8Dvwla5LqX+TT1vclpUmXfbiW1cRRCjSrxS+kKZh7\n",
       "w2ozawceq6mwt8avY9SN+7JXLR7DqVvRCcLqP1zxRfSBpi1z65dJ2aFwMPvr7Q5ouZv1VR/Mf3Fn\n",
       "xx0IZI/NP1jCdxsdgOhstqNF5ohZ7QVBHrFLnlGPJYwPIrLEvUrYytA6SgYcrd4XQrSNHI22TllY\n",
       "/sIp0IlNEyfu6zB6W3QR+zDCM5VEEKz33+bP+croZPmULJCAN2WSRGFrAG2P1Uucu74j3RTYpUEV\n",
       "6roCrCAKkyende1YNs5Z5rA5UGBGf0dBlLdsZDqMKiC2YBizzE5ElqnJA6QCUPZc1nydd09QpfbB\n",
       "FbhWyHr5qnmJF3vj6Zp3LLRfH+qTmyiDNMUrSa+QwntxW0Z3Gm4kaKzeHT6K921/ptQilI7IYx51\n",
       "a2vEt9v5rE5U4yF7X4n9ixWka9U0v7XwiaBcglr2JBlLyPLoIz5sCMhDlX5jNXyLgHMwh3+5mfsL\n",
       "uEeuQMJMX96MG1n+W1WbpE/rI09g/G1Gc73jXjrCLHHFZ4owldkGr7B84xQTrxuwPd3rgdYYEJVX\n",
       "qNmWMGubBXmjc5wYRszqsaRhvU+DsdDJ0lqRn6CTz2ZA8K8d87OVZ8guGCk7rHiBV+yYIEmesEB/\n",
       "kpNFy4gXWCFbvoJ6Ndt8attgHBt4HXTMz7cAs+93M3/w6AXYKiKA/FmejNdT4LAsFFJFsaUCX5E1\n",
       "BI3dV8vuauVClGt1EId9SB5y97YAANy0YPUMeJAgMfZAPCymeYt76B3lQyuKRLJET/jBtZlr3sSB\n",
       "Z7QYxJiOBZSRo0td4/2jQLfurWWtQbFdTMUDQ2sztVDCXW6RzZAEKcXq/IXiRAVil5rSoROVOT8s\n",
       "ehDJwLs+Vb4eWc/IfdaL4m90LEy7GoXurzUlFOsgCeiAASDBP4s0JWp0sz3uFrng9SiY3kQtkMZT\n",
       "WundnKlLAlXBaB/nW367DJRwe7DEp6ANVRDzoewcs2FrM7GjDWpZBOBtRL3NTclyWnjNhcIqhVgY\n",
       "ClfDew8rf3qgXPzt4ttLScfW8WPDJACKtDXnO1NaBG9ZYezs2bsNqlF6icSTTmFmwBlnLQQASdHI\n",
       "xMucYSskOqTkFRznFXN8RDFt18VVIzEe12vUtExC9/+SXU6jBX+ej/N8T3/1NwI5YrnXSRu9OSft\n",
       "Mqasf7B/JU+HKlBvRn+Eh2BwBGF9p+GkE4Ls6sa8lHnozT111MdOaINWoEYNQb0P9s5t2iuuOreZ\n",
       "nDRugfgUYUr0CxsVj8U5mjAp1IHdjTc3ySp2K5QKDDmBfRSwYCSCe1eL0ClDNrtXpNU9epfVyKqD\n",
       "DIi3SymK/Hd8qNg06xQ6443ToQGDzp1ToqbPZGGjdFjK00EDdCgUOfKJj037nZQ9YDwdrmGo2Qwv\n",
       "5LScIeWRZ0EYz5lgy35aF+blNE4NRPUVQDlBDV4EsgXb2wvUYZzJVOOPo/xNflFCMSXjXdu0jB4L\n",
       "R7SAS1pSClu/oYzDB8LHl2fcRRcKohSroERYyastqgAx0S9OrGoXO6g9Sm0ceAMyiO4cdqZqcfkS\n",
       "X9kUZ/M5icV+FgmTh7zFTDQnZs6qYdqcgv/ChEU1eyhKV4t+u5aTgAAAI6CPgZ2kALKZ6YRz7kYm\n",
       "KMcIiBEhje8IOH8CQV/X2lvDFNSOpUdRQAseYQUgk3lhVyPitTrlg7zrA6mEjPZV4w5+R1yp/kdY\n",
       "+DOSCDgsHVffsFoIrc8cNo6oIE08KfoQ0uWKanPxVkYfoEBolv8qXNyjeI5xzfklT/r62UC9E25v\n",
       "Dk2L8GpSQdzKkODITY9eev5gS0UdctQS0fOg19DXHB7T3p0M5/ye9dUBhtgEJi7yttYFCcDC3V8I\n",
       "u49gfe+2e+RgoFGCfGCTUv3UwyROwPuNzyMu0nsNiemMgx5RmuqWQsLgR7nsNbUgZqhFKr2UP8CB\n",
       "QbibaFrO2t1ti3ktQzkfcYREYji0GJ04IP7/YqiKZyYONZ3WwGpUHxhIVhnB67i+FtMAdREw58xq\n",
       "EiifD59EYQll+WvJEvA09EjocF92ki846+fqpwMGW1kACteOJh1smm2M8xu5IS2INnwHP21fB+M3\n",
       "GriEiVs9FCKqiBJ9q2PiZSM53y7uh/B29M+lw1NozZUjJ/6jN6uZ4yt85FKjQ4YgOYqjAALx+ejE\n",
       "n0WnaMmswVBEKuYmGkRYLOVprkwHtOymBXqYDjKEAdhUlCBQn4hZQ8eXczK2imEUSP/zVYMsf+oB\n",
       "1sJEd0mdFN2Y4UsLbHjDcGN9SWEotBpHJdMApsKQr00fJ4ioKm9VMbyTiRbjw+uJNkql/atEXWqD\n",
       "syjm1MVLxkWsOPNN/2H4qtQdIe+ANjGRN5KKe3PxL8e/uTP0fLNaoyLu+8E24uggqPLWvsTcR0LH\n",
       "rBbovWMnrYuCQE4wk6T1WXkjDHmsaDN+VqUC1dSxY6bSicZM0IIII9Wp2VzGSDNDpvMVPiXyk5CR\n",
       "ZmRKOSzkaqLb6c90GMnlleUlC2JHiaN5sUQ07dw4TJqYN1MVs+h2JudECR9GjT4AeVd/Rv/69V5F\n",
       "5/neV/+YS1Wd2h77wiAVEnT6/jG3IyidIeRpurtgDMWv3/C4umvUHm/309bBt9lVzqqSKHvQ+LjH\n",
       "F7XTL2MvX9USI7QVoosXgE6h7soP+uE6LxSx6JHSVH3btYTz/RMnNUFCT2dWnfK0+GEkDqJ+uYvG\n",
       "k0dHmMct/HPaN/sSGDTmK7PMOSoj914oo0ZvP1NmFRLcj/xNSiz+q96V62HKALazIlQJKrZMneZe\n",
       "7Few98lxxhTGktUM1oZe7RWmKKHeqfoAldVHrBZV8bF4DKfR2UVryNx9rkeVQtF5Pv/fWIlfqmvv\n",
       "pA4+SE+2g+sXYNtDBABeGz8Cy4nQHwv62iHkgzgTLkbr9wnlJ+CXkCQmCZ6qGOUWYT5LxmbRibpI\n",
       "tl0MG9sWLs34UgYHu+rF4X6o60w8akHQeePmgGPcsxeCt5WvpwgvlE/2v5U6wIJYoGLHw0ESrQKx\n",
       "ljodEXIhDoDB8P+7FIE3Md5RJraIpjFDx3cdlyQEQj4EhBWUcNMMGSbnzIYMPhgodeEMq3MyLC8C\n",
       "wnDO1pac5M8GuykLAfbRuEJFZsO9sLKVXzRVisSRD8hz3e8vu4IkhFKkzVuQwR/X8lJ6eWITO5x5\n",
       "RJQHe/K0yohGar6RvwBxgTKYr4QeXFbB6hH40/jzX7h2QqPKPDM0Wp0tvsK9ze3G7fjFpMM+YBk1\n",
       "c5mBQkcQXAV2tA34ufZMyBzFQ1oyBRI3qpnPWyfa28//GDe3hkhsFEkZpN166ekFOFRHui3e07GS\n",
       "uxZM+JMO7JlhwphIM+C4GoQFqP+q4ma46queNP71dDcYnxI7QOzSULr4zluGozjIqLZg9ouICh4e\n",
       "40LV7WA4vIzt9P4o+S/on912CLvgbkioJxDsdT+EgQ+Xb3FfimlOJb9jkRc0xgABPwAAAiNBmiFs\n",
       "Q//+qZYAFBFrMAX+EMiYyoczcDY/nN8Ic6lAr0wTVv85bSCvZz/1xGg/rtlHxv7vssPANmwi+xPn\n",
       "+Hm7+4OTBDd2gp28xDQHiXUdV65aVQ+A1FC3/+5Asve/veBsy+CBI6+xjf2mWr1MokMdkYD9JfaK\n",
       "vk+3gfgJVbSg941O7o7U6kphGOqDQOFQWUQHC+rnkerezRdqmmJrwduc2C3OTjO5EpZivvTmuPhj\n",
       "fgswVSOr3T5uoyNUjmyy1uYvTNMTliiaAEzRJdRWrBI6QVNACvYfoefZ7TbOBsmjqAob/4D/ElpD\n",
       "HWSM1GHvBJ9fZP9X9S3hGbikWrDzDHC1hovX8ps6T+I9CmaKhANXvtCC/FesN/tPv3ctkAmFfcVB\n",
       "fTNN4sOsDebNyAP0A+gIaM4R0G7ziV8NnJaQBr5DQaiS22DnrDYSa6O7jBiJZBE74e8+g8RH9mS6\n",
       "W6QwH5as34gA2Jm5o3C90s5UF8cJLtkS9JaIY3e93MMAwl1rZ4X5vC9yuOIgF5H0Fh2zGrYPXDQ+\n",
       "DybLvK409qomQnOBwWf+RBTNiVsXLWE5mF66NMFa5WxwjgbXYvTljOdSArYLtoRZ8Qid0p/y82YU\n",
       "SYEUBjhYoRJxSKllt0+Ldqmb1xK5dj5kZcH/+9FwAAIIAAADAAOd4QGx6rN7O8Nv/vdLnKz66fwB\n",
       "Ap0fnKqW6Utj5cVR7V2e9b835dcOwfr+MXKlR7fAAAAC20GaQjwhkymEP//+qZYAAA+vmOAB6txH\n",
       "/7sbSKKBRrf/0LBpUgdozlqZn1nw/gtwtlOqYoSK13jvQ3REadWDX7qZMfLl1qZf0tOeEzMJQwHR\n",
       "BuEQV71969wpH1k9Bsk0UO7vArvT4+pj8ViACsbbgmacNJWzSEYtCE/SxhGsk7gBhLcQRQX0RNLG\n",
       "OBDYg3BFH0aZ/gtK9ckuAEPRvgU0BJX5j8nHX/I9Ngg5fqD0Hs7m3QbAcL/Ph//i5GG4XmKSNqVf\n",
       "FBP5Zcxti7Yu+T57tPv2Bi1NryimwEoicNh/Q7+DblGpeaxGYncfXtFSnqcVrDVqFXjJq9nTiW5w\n",
       "pgKJjSF1vPuLysHRRZSk0IJRHY4xLgg0SiqTh/beGEmcyIhkLi62z/cTsd2OxI6j+ptpZQh5zO7d\n",
       "AIpsxu77a7yhs45wyBYJFwyYMlwz6DFixoCo1OeGKw2MJ6X+rUAgn/stYDlF6NC8QjPmTLNQJXnP\n",
       "2d6iaRoXrS3PC71m4nwrMjjQItGibilDuFPROQgMeY7Jo1ajnHxVFkr4SDY6dAT5Mp/br4ReMTZH\n",
       "gNag/dInmODjwazJgr+Ztg5TSOO4iNiTxm/8Ybeghlz9591vU+dFSYizxEn83Uw8yE14JDZje9XV\n",
       "vzDeLjwHSykDTAoW2KhsSS8iggcxKbjK+UCHCWK1cJDrtS0u0ghiSmAm3E5l1F30kcKMLadkqPpw\n",
       "OVR2DsgSiaIkQMOzEGefWSczZLF/KVVWZBnGb94oMLgF1JyTrNH2hA0n0P9kZVUQ7y2Kza+C4kg0\n",
       "cEZpkbNgeht5mpDyrjqIgcy8plfBxs29VQl/MiEtJhoMUsh2RsN7cAc3bjAohUa1pifo1nrNr19S\n",
       "nbwD/duNp9dWzaK+7x9p3xRneFlGuVcyft8B4LVYh2lv24hTWwF5UvV9zRDO0Hv3bUnZj1WjGlkJ\n",
       "UPlx1ReVEgG4U3BwogAXmoAKZ1KoACghAAADxkGaY0nhDyZTAh///qmWAAAtvObPiUipsrsoWluv\n",
       "zYoEj/04e73SVZObaMYKShLBvw8HAEogBz/GJxkwJqhSKo49ueMj45WQxjb61TKRARpiWI/Drpbn\n",
       "JWhJfQll3flkR3qod9q3f98Mc+EATfWxNhfwdoT72SqWHM2rA95aAaZ+DMG8vPlhSFf8ZVi4vGtw\n",
       "eXeF1Sz3TpC7gXpqWmzdj3UZnMunGWbt6R88SnpulBBZO0daWadR4qjot6JgybOYB3RMeNQPAFSD\n",
       "oYdBUFzVlavRvQmwy1mwbwt8iWI597+7XF+nMH0nR57DJHHehida6E2evobAnF+pIxZy79BUqDWB\n",
       "0sjJzKjZVs3oZiu3Jyz0obtlI9MccRMBqezV8z5rApyuemB5fa+gHQmAOyHlxc5pbRvioGb4BeoV\n",
       "lwhb5f+zutU0fIK1UL27E/7A2RmvlK/tP5p/g8yQc3SfmbXK7wSPCtCHE1nLlAUmnx5UqK45WiPH\n",
       "xUOp8JR1m4PhSOgHl1XGfVOjVSRoMUWjGcyAAShPmtYzflJp4EhDoqfdFCdfUgYXtTDMWYJkvH+I\n",
       "X1kbPHUYlnGUQi0SpKutwJ+6BmKPYpieZmY+enCpnrRXVi1ZktPUnrOc6m1ONY5k866+oe8WWEpV\n",
       "6He2OMa43pJYwO3JFef8HXsnbny0E3cEDjFMitW32KRz/zRQdztfOfTatpGARXUxA7v2/NUjQF6C\n",
       "2jT/+Rzh6ZZvZ2anCBZWEM+jOnzNFxllgjjE6lEVopGl87C6HXzDYC0XIwljbPuQjkr4IJFIXu2E\n",
       "hNZ6Iyo8LE2CPGe09c5eXpxThE9yV9Lvzp5qgTmnTgrN3/8oZhnFVA1lCMRiurLpvQxAZobxBHI8\n",
       "PP+YCmzQrSq0dxmXCMsKIm/SqSgTCaKbVmG0x7RhSiWEgUeAVxjVcXnk/TJoZSyU7cPTFPxpQTCy\n",
       "86CKIIlO6MqtqZy9DOOdPQpwgFgtePDMJv918Akr8CamYQr0/gtP3cglp7TGclb98J1UinYP7F+r\n",
       "FCGq4p/vekxl5nxnuogqPL5+iJQemPn2QBm1/ua7Z3EvOUjIz4R1lfiZwd+c5DZcKZS0+AN9LnE1\n",
       "B46sN2yc/fdHLpIQPEeuJJjDVA1IqCFoQKcFeLidOZZdOdhJHvArbqIn/gNTYN7wgYlgmcIsoqko\n",
       "XROwP/nn47GeYG5BwPUz+EfYLTvIGYWFqfpixrJyqiodRAtvAYW/65NEb5Qs9GZ/y1WgFNY3R94D\n",
       "ygQIu9+OWYGiDjzg9AFDu2AAD6ocIAB6QAAAArBBmoRJ4Q8mUwIf//6plgAAvHC34eXRQARB8SQH\n",
       "/GopjArKnwSEkohMQz5Yjuk1/+JO2w6KO0Py37I6jtoDIM+ZsobR1EfD9PgOnAT62o0AM29rpdbs\n",
       "8qa1mJFqTZIVpxb/ZawjNIPtzVY7eOhg5VsXSSxVfvtxHtrtBzAdEkW/jC+I1FC65XrsWJq6Owii\n",
       "7b/gEOvqCuumybsXHzxtKbNthyFhgK2ZYcatbn5DzJxSEW2H5doh2ap5VVrNOrXZRPmGXSJcm6vk\n",
       "fMmw0xTz/biWzlUKDEZ99hqB1KPhBvQncce7Pyp8qUhpo2F3X73gyLFhCfR0WfCimFtGLjHVRoS4\n",
       "/PGpIdYj5iem31eR3Ib8sizg9MHhT7/XE1lE4fG/1Itv8ptYEABvdhyXPTaEhkzAHbhzzkmKCC4c\n",
       "QXUhw5e/NpvcMulbjWnpHFDbxsIE95sI/Pmf8hJvYMkzXQIZ5F0yh3kopwWsytxCnAEhPLHLHFXW\n",
       "wRxYJJRq+mESYdbMryhpQMaLw28AGW7Aa39KLBwgqEskaqWa0uPfcBR9lybYv1mIUWmiHdPeflIt\n",
       "PBuOZRH4W8YEESgBon6/MrHWys5ZjzwnxjU0S/o3MADtr2DCcE84svaKL+sO1v9YwW4BTntzkfZb\n",
       "60w0Od71FJxXJf/9Uu4Sn4261HQmmgDgtu3AiIcjE235pU07HRPBBOT+RMpvGSFW2fmJRjFt4/V9\n",
       "a2DvxDJ97rsBvEWg5WKrwSE/96/Xs0qQB9JVJ/KipWZNHzclxJG9ezE5IDRVyi6vhugHAmDZFPkQ\n",
       "NKJ6JQrV+RFCsYOYhX+FI/6arcm6mrUr158aLBmzvPRsI/7HQJezbN/WdDwmPdcQf40XV0RX+pL/\n",
       "+2HtaXdrRmqy/z9AaH9MvgbKwp2DyuS4ZoAAACTjwgspAAAB10GapUnhDyZTAgh//qpVAABvJ75D\n",
       "4gi1plPGnhrwODHF1CqI4WJKc5/cdcxIADm0YtIpyIUxgVl8U+9tdPOcyjAUJ5BUlytIHBzblE7o\n",
       "UfQfnsLciwGj1hFXWS80iciLUykUyqKobw9sZhlwfvSJShwOg/Y2v8GxxBqG5RBWdxQCAP63511/\n",
       "HenOMRoIXeX9IZ5b/RKexVdn9oWkqIKGLKbscCR+PKmu7LJtshF5mwRQX6diK+FBaSHTsDARQtiv\n",
       "LM/i2rVMQ1tAATqbKKwRqg2nizG+V+WIW2vrDwzSv7k/Do0k7a6c0WlqnpNgYUes2tvoTCHcPC8X\n",
       "kMNX/KI8wTa3eJnms6MyENNTeNfDF4NmsYjiF3aSXUf+boPzzaqj9MU7gdnvZaNzpQzPCYKSCGsP\n",
       "DxyUbyxmoxziZw1eUIjAuF758UJEKLV4P1vfNjzBNRxwRai+bp8TOlsoaG2sLpMZLphsESXBJP1Y\n",
       "NaNsvTtSvse5oR1b3JZ0/zde3r8r8lXsfJHDJC7UCbMPcNS9E8pHUsRivY7CGT91bMp8G9ggAKrI\n",
       "JpQONLfEyS1SvOS3p71rIyiI7wy3JS2knMQz8ArI3KzY7G74wlUgVSbgAUgPlRycMMsLiQAAAgJB\n",
       "msZJ4Q8mUwIIf/6qVQAA7uI6lFBzmACHi/m7q/WWiAKeuU1j5k6trk/40wz1/D9Vfu/LB9lK8Eos\n",
       "4LuS6TZqBLQkXjUXl0qqiIZ+XyaHlUC2EklZSoLSiJzoY5k83ZaxVzNIhXfHPJadfNPtwuR6hRWt\n",
       "F/8CmSatVv92FAserST+709uluvbVI153BhzabD0UGDGP9zj+KsZJ+3+eTcaRbkgGBrIvwTZCI9U\n",
       "t8Vl35IPd36kWGYF/nC6xwM80To8wl24V6DaB8Uhm/rgSxyY7tk1EUV8VCcb/x4cnjeJ4aFJYHRN\n",
       "wHsFtTB7AWvHvcJHgP9I/p7mZrde7M+0KrdiI+/IM6AqtqBE+I7sNyqFAxB/AMdmV+LkeXdaR6TM\n",
       "UsOVBsl1+xSd8yUMUxRgyXLUglr8hh6rfr8dcAHvUF3qC5LD2x3vI+QSU+aUQj5G5DJj91j/sZ29\n",
       "xIldHfhoIif1XhW/6UQXB7Cu2s3Hyxc6PndehOC1dz6JKJdX/r0qVi2qbGZ7GTIDdWSqvUzKwzMw\n",
       "VuV9b3P9bis/BvdpEjNiAUfFpGbwW7Yy8GmFkz4sfXiFzYHCZ4qEMyMFVXTDOyKjDUS2i4wRMuzO\n",
       "WhxGVHwdSgLrAgANHQMMlRDyVPPZhx9eFTnZ21Mu6U2T2Qj3DWaMHYrUW4Lp9iLAwRHuwSwwmpWB\n",
       "AAABi0Ga50nhDyZTAgj//rUqgAEZ/jim1VFT5WR6svNjyQZuOTjFqdMJihQEH/iQbi64X00A7yT+\n",
       "HLmmS4AUdMOZJLFydwyzFbp1qdjoIu1Zo+WN+nUWxI0Kjl+Uc5S7fMt/cSyvxL15wlPTv3dxIyxD\n",
       "yCED6aWN2hdQTrQcyRkYwWfvaUHg2R+glHj37qoK169cshrCSRJHZAujDB7WsigksHKjiGkQxeRO\n",
       "NFFjQ3sUXMLkV5cRlw1+omVSqSPQDvs/LuTi6JgGQUV4Kfxcq3L0Lif/6BE2O7G2QfNIW02rWgBH\n",
       "UaO4BIt11HeOBMqOo9rXPDer5xozE9X8MMfGiLUp75OjeSp9rqIOAFQgNZx9jYWabU0SXQK+ggaq\n",
       "t7bUyALowf/EpYBIE75ukUqcbu72dZfByUFNaTDpE8MBTrAB+KAuFRsuQbjL2+y4gLCAkr7SYCWT\n",
       "Z/tb1AETn95T6t5nePX1Iy9nqaF2jZ6rtB0Lsa+EE0o52VINBLKyal4Es58cVkF2PhiyvyfYqwBN\n",
       "AAAFKkGbC0nhDyZTAgj//rUqgAJw3yEAF9fRc9O+lag8DufnALGi+qb8O/iGNw+HxwB2eEeCfxYZ\n",
       "WGtLON31l19FNJO7ECd/4T1Jb0XqF6YljeQM45pZtnC9XHovnUrTZ4OfiUFGce8j/a8Equ0GwTQ3\n",
       "K6IQ/wV7FiT0WVpRG7hrKE1R4iHwfjnTUuLQAGgK/Zic24oXOhx4dt67GjA3gWyJ/+uwxnEqWSHm\n",
       "B4Kb2OvFVRHqxzRNGp27Q1YguzBOoGZzclkZFytNWRpDU0D0Gt7oJLSkpUKUR5dxfcszI3TQSgks\n",
       "Ou7h2il38AZ9eU4AcoqkmNRAJl4UB2xoBmxwCb2iEC9Ed8pLTm3BE1oRADrXN8YWxV5RX1BkKb2R\n",
       "SNOcOK+iJyKmXLlyG5UG4HoNW6iP33i85bVomz++kv1J0D+vUevQC6AZsjYvYuMTcFU44cSZ4l91\n",
       "9NJnr5IcFMg2Qh2TQFLjN8vGpxYSoRp8LmdhgU/GQxDAaIb0h5XB3TxZBsqzoE+56VnbzITP5KxN\n",
       "NiNByBKVRYh9OaiW0eBoCuuzcpT8MeF9L5dsdQIcE4D/8XF4PKf+ti/0lLYJzAYVxLZQa+fYQl1R\n",
       "t8l+3cbFzxsQKKvvfv2cN+kh5JCUnRE0pRvgFmDhzj/WUel9RnRqc45+1FEEEAVqgm588eQugsd1\n",
       "+hA2G8kuLdRuSyA5NIcAGTu2lAnAqrNr8vCJYD52YxgIm4J4wODcN70bkkobE2WcwtNKBgtN1DQg\n",
       "KbFONg3g7TIOFgYG4f7M75hWdiGodJrU2VvOPMDomrfpclniT9alZrn8cVWaMMPyr8hdC559jLKz\n",
       "LbTXgXAav/AYJiQlhc0Ml1HHavfPHqo8o8XYlxOI4Lxencm2GZqjdPcYmxBscZVu7iBnSBA66VeJ\n",
       "s8xy+k79yxSATXp7MYnRaOExJfFWeUPkyx2sYuYG3N4lAntcClWI3XDbfBOvynYyHACkRCXcMFAV\n",
       "+WWbZnBuMphM1F8jWfBSNhBiGvzoIqojS6SvRZSaFI/QCqq+hmCThuZbSKAYeiNgAGjWMIvowwrx\n",
       "BOoQRtiRHZbxvCHrpboUyQmloCRq7vAWU0rl8JQOvwot/1usw4RmOn+sdDkmnxwA/qBNjBQhPRyb\n",
       "yHkYiGrh9qdoI4NqYXnaHdfKuzogvyPfmL8hpHRkKi3/1GyB/JG+3qSQPBKQC6pw3nZuU/6bbAZh\n",
       "NbiXNysPmWJlHdnc5RU2eymcXuJMyhCN3TbOuuRmU+QIj8b185Z1eF1QveeJZapJGt+zOPlnWQjB\n",
       "Xfx+4DDhqw34MMqDH6cPrpx6w9YhYd0qfmlFOwlOMtx1pHUoE4cEz28x6cquRF3ZxpS3gxufNbCd\n",
       "xi7mUn/ConNp+CSWHvIdTMl+m2CyM3xXmDLIAMvNVKvJsOTClG2h9Q+pHrs2XLa9KIXQfb9FkG5S\n",
       "GNNiENBNAg2J2VdVpyeDN9tlsf82iqP+su3prNcq6oNDbOKtI9FMjVChoIKqPq0WyjGPZiyk55gw\n",
       "QtD6LgtHo2MAfZFhBdY3jIfuiLf+7m8CpU/Gt0R0g43U2RkkOUKqquPVMrlD7GYYJyqOz+qR26CF\n",
       "G54bWiGYtv3fYvsUHdvnafj7BCpnopNAbTMB5Cdj2+aLrai0jVTkvSattiYVe5ZA9l96my+ulDkQ\n",
       "CqTU4o07wAmBAzbqQIorL/+LBwSVl9eSFNZx03aOnOUq9xJvmu8mpZd2jXMI00U7jKrDwR8wU3jK\n",
       "tBjHCCQShjd7ZQAhbETcAAAB1kGfKUURPDv/AAmEf16xVoa+HNtIASyhEre91YmpMoQ5Z95f14XH\n",
       "1NWBey/RcAsa1GtYJf71iIcWwCz/ytVnHEEynIc9zTxvq2ky5xE/DrcPJyzgRreHUQK63Uu7CV62\n",
       "WztVmp4qe9Nul1MZI4Bzk3tLcsKvICym7T1/NikceE6hFg3QbKiI/qK3x8814n7+Wo5mxuzHdAHN\n",
       "cvCb349ZEbmpbw2imPI62vN0DE8Rb8BW7DnvordWIfxVPVp05QNbep6ywYXUmsmsGeWb8kM1jcH3\n",
       "DE54Oxj6O8XnW0BNxB86G2Mn8qKQ7YgLVOHQV/YcU/REWMHnC5wGqaapG3H8m2GiVfn2PrrxVs+y\n",
       "T/TpLWl7fJiyDenNHyEkCr/yi3XEC4hoAXvbitloXeQLERjlg9e0TnHkHlWFVoOA2v/OjqOuw/iv\n",
       "pp7Ghs65MK3agQwm60TRXkNbvKaYdI+Bwxzh5EtXZnv4uYvzzMdGELNHGBbQafzZRlXGyikymxnR\n",
       "1BkK3hiU4tn/EVMJ5KR3KmuuJPcrRmuagchMAnMc+duzRkQyMyGLL+tV8qq344K8DGwwuwPA/Dr1\n",
       "+Z29SK/sHFt4tD5uxin20CuVvZQlhjQAyEyx05ziCtqzAAAArAGfSHRDfwAGcQhlP1+Radpc+ol5\n",
       "sN6vJfPNgZI4FSIwmAV4DBRSijT0Vu0sr3QxHKe/8m+H0b2X3L2yQD4i7JV0GVnvZ5wyYq2czCo/\n",
       "NNSM19gh0lrRv6S8IO10/HUYiS3bAA2q4Gk8bVkalBBth9aVmAvAlbFj2CL1qWWLNHQev4Wyfs3T\n",
       "9gT7z0gY/oItqx3mcFXOeNU5IeOigALGdk4QaPwJGHgBjC4gu4EAAAEOAZ9KakN/AA2BbkKs7gOA\n",
       "txZZ4ANquBsnvARim0OwViaNw2Kyy7bM0IvnjFLvz31wPCjuABjkbFJbspraAnaqW50kZB/YxcN1\n",
       "haJ4XkLolSqvpcKV0l3WJ5mfPF+t6DDripJn9BymcKrnJFmq8d5EZqOPbLMBaR0XaWEfKxWVCgU1\n",
       "5PaxqijHZfKmPn430GPvs2enRrokslz76sxdmT1PJWMGQ1fAU/2nSKZuTJQY2Z9OyQ1FrlcZlRNi\n",
       "yKvS/rAbxrSYIbNv3/ctpe8vOMoaBkI+bSnmDElG08+u5Li/K+8pJP4wS7Au1SuZtVibVixYzNPo\n",
       "68HW1Gom1LfmmYd9nl0WAzJ7kA4AAHuYiCtgAAAEi0GbT0moQWiZTAgh//6qVQAFS8TeAEYoxaSk\n",
       "kFbsEKg6xSfZK/zC9rdMDgFd5/EjGAdO76Z2t3w4vWtVDAhe32YCeXANapKCV+92giQ8cfwemg15\n",
       "dSkFa47SW237WFt3SSr0SCPgKDRYM7YIieWHOSCWU13hHf3vXVeTauXSAJLfFf/Mpvu5SFFt8YKO\n",
       "RPKNex/dzbquRQxKm3HztFPLoV1v4F4o1v8MWTTMpzwn1m5N8/8zhK604SKhY+C3UNOVsGR5/w2V\n",
       "dROmMzet4uop991KyoaTxKILOo7CimMy/nixQ4rllG4zJBwfaWzyqsHYFzr1/yugpb5CVEbrBktQ\n",
       "2QoKLcW1ikT0MzFJjurEJlaxrwt7xM9G79BCRCte5V10qyHN/sVCn/JlYUCfEHX7Y0UIjc0sIJhl\n",
       "PsteWKVVxwKWktFjxZuy8C4NkTi4LV9wUTdSpME8NC6pX9ktU3ijXZXxEGTXDx7RtAuppGPhJX0f\n",
       "a7luqLwLREAsDsah7WM1g9Ke0dpnau64p5PugfX/flRBvzVAUREPS1rYGrgiXWiz+BuNsIdWaxi8\n",
       "OW8rjIUahbQQzZmI5usazNZ1NQqAj+YL+n7/oaFm8Ocskn95FALl2OsA8LOu1zQln9fuMImWXtqy\n",
       "sEu/TqeqXgIm0AUwqTOfFKzmiiN0panzEahZZ8KVrGMJn6Y0KJZH1jXPvHRPb8a7HCd2AXEqLJJt\n",
       "BrA/AoGpGWUmFP0L3uxwuisuEmWhluDSF/Mg453mR31hbqhAT8rRCYttul7cM5GL4zNcLALf3/dq\n",
       "x0u5X/uiESjL9vOPKHyy0Ip4U0zMW3+PWUefBAjSSeCXYuAbu3pBwu73TVImvBJXRuEFVJQmWqW0\n",
       "YhlGtfWFD/ayVqB1omZfHmyGx1yeUEW3jnnlS3aptr8ZM6LNfHdhjz4MXCgV8ORRsQSYCzWXKJY1\n",
       "NtPr7v1GMfuGlULfX/JRjWwfGDyBO4/9F/gKj5B9U+/Z4qkhLAMTs2lNNnmP/5eyGzZohFwjTqhy\n",
       "o1etHlgii/fy5icLjryaYA6Nn3VLQNckjHa5Qhg6WWDNfd6hhCoR4vkTj7g9M2uKC+u4i64SE8Pc\n",
       "bwaaPQFx95rYT7A8UD8GW2iKJNM6KRHqJwsiYvCPCQ3RhQa5VghR0nNGAowYZ4nQgyqJmiVJggWE\n",
       "ga2jrrZzA4sXud4IBGCoTUUM/AV2Tqbmu5NcjQq7YA2RhK67KyWaRHyciRzJ1FVmxkL6ujcXzZP0\n",
       "z7I7Tj2OPl1VYu7GpTvOIpyqZWY/2Br1Tuc/Tbh6UkjKG/fKQQ53LxXTEcCNvMNWDK/02QQz+iJ7\n",
       "VeRJQrI/3t68WBWa9fmIg0+Gf88BrYFQdR6KreYDJGM/DW0ko67k1wN//9E4AY52N8BARBuoAzZ0\n",
       "j+IYY2ZhhEvkl9iZws9h2d2QDoZc9kXvWNrBVQa7mM98ZLgVuAtkp7z4FzqOa6VyCZnM3hXVoG9C\n",
       "EnMzXJo624FZ89ykVPmXSroX7TyVZxf2gcM9Hu6tSXUnWGfNpVLslJf31L+gLe7kIJzJg1aIAAAC\n",
       "iEGfbUURLDv/AApSr1+nwAbSffVJ9RIAlwI6IqGUfZUyd0T5fk3BVZfOuJY8qjil6851TTIgY7AR\n",
       "xTvry2fCoTIsovpwKvGlmfXUsEFP2Gek/kSacQA0GGleXXPbGzFhezRWi0CobXxC48G8xhRSOqs/\n",
       "QhUEtOMNDxGXYouT+RDHifl77E7QOY8CdIhvzphmYIz2eIvsu4RQgIXdpa34kafoag97HMHclmUM\n",
       "n5IWRChqRILGtQ1j7XLNHHnPsN7WrhLc6UTKUx33NvUqWJ+DkcHHDBZAUwczkZzHRR6XBeCg13tS\n",
       "ckDZRWccMmTIgyeCFHvWuy/Wri3APoLqXNIkwe/0bp1tWHRU1Jf9XKoBA17ypxW0o0VokwS0Nbo2\n",
       "dA9HbjDfJ/EQvJZZDdKy5rpIP7PeoOTJIdIHBlHVTgyaXqKTgkiPU983JE58c5jaV9EgANl6DSev\n",
       "dWvO7Q0osb9qVHcWqq0sOq1G2euCKTf4OHdWyqzdCt9TZL7MqRVbwd3DyeFoDAgnUySPpy8RaSsC\n",
       "VjcWcrvjD/6B1z+y7QQW/9l1+PTrbeKCNcMQypOIR0PXoua+5SQk4h6ivooCuV5mB0DCgDTV+LMX\n",
       "UPOxRuUqJDl4unN4cxknJNk2r8xZ/t1g5eEmRkdcMid2IO3LiAAxJ/J0pxpdrNtyf9A7jvXM4vZk\n",
       "XRZ6KsChnBeX0JaTjgcXbj7WhFA+uWzeTQ8d5nIXcEJaEJ/opszXkxXhXq3OF1dVDNNLyKfVEpXt\n",
       "LECA8aQ8A1kSW1UlnMGpVp5bVq/sL3kKS7n41/ItL4M4a2N40xgZId3GR2OD6zArthbMIHgxiVvU\n",
       "9mgzNvHE8K+5TfsDMboY4gM/T/38gwAAAbIBn4x0Q38ADinihS6mVJ9oAEQe76ZoFgZp7pVGhO6I\n",
       "uIFwex//Hc+vznNXq7t/FT4EGytYghKmLfTV1twYf/SicCa+Fe8sTDSpGO8zYNcENtjY2y6y0C4O\n",
       "gf0YmchfjG64uJvoAjpG2p1sVik0oTwF3l7cYJGjrcnsxQrYRWt9mSUxyiirDOFJvA2g6l0M4SWi\n",
       "WwqiT6zMhgRVZHegJUPjDSjVM9x7tiasnZTrWmZxIn0a7bLEaYELfNfPUOZLO31ezj9bQc+mHwNz\n",
       "byJfQjsiLIa4rPTS+f2H8oygyNr8sTr6N3k2Tcnl34CKIczfRDIyP2541ryZO6EV7otBOrC8IpQ9\n",
       "1a7AtLmrEDEhDrEr4sXB1qup22EAbpIzlI8kpLJIZjyIlNz+oZazOW9Ruh4tQsU53m3QdqKH4YEP\n",
       "ugjSq8OOsQsqT7UyFv2DL7EYPb/ba8d+YkvEXVYweYMCSEmYEW2eFdCNTYI3VjXD3C5xDnOxIzCC\n",
       "kMzIEjX5hhPGoZnvhFPrd3YDBtULHDW8wyXBtk7nKKQDKCMgRO/LGLBacdmaXmtCdke4AARzSGp9\n",
       "mdO0IQAAAX4Bn45qQ38ADoFA/imsAGzugVljMIRBRdySzOMDgTs60TNfnQmW0UKmwIdu8oC2/Lcl\n",
       "77x7yTLDs5YuhrsBdzsRHsj43dETflSwCiEopU8QROUnF7X/DqVDGRalkXl3bW53X4smnEl8EQ8A\n",
       "U7zL16UqFoLg9LVoLbhh+AX8aQIL9JTX+sDi/lYc1dxSupeS+8CvSjLrDz04RVScwl15Rdw+XQw4\n",
       "1VcVHMoaK/ktdVG9kGn/jhOnVxy4nnnJYgYwdJXuPlcJDVqo9nwuaaVdosxyRlBs4A/Xe46+LP7F\n",
       "rGyJXz/BcAT3oaHjfJMg/BROVCcG/zbnHC28cXDVo2wpCATO60fbBlo/wAB2REylOMSv9p/rGIKr\n",
       "2jJVG+1bf1zRg8EiFLN1bfTklJ9+ZlT5UPMhKM+JfJfb9w/GDAJPfF7BJ7zEj67U5o7pFpwh28gX\n",
       "JKcKhVQjwdYpjwi0f9o1OmoZ3C+OLeAQOgIXCF1l+zpnDIAQMoS6fb88o/zby6ARAAADl0GbkEmo\n",
       "QWyZTAgh//6qVQAMZ0iEFf9XHcbk0W1XL9Vu1tLrd3ZaBGVs+owGUXrKTxpSxJp9sWpYoupmgHUa\n",
       "38H/+hKEV3nwxR6zECFGs7d3DRpytSpMvc+1jQEOH37+ycsw8vxXSj9WpxNWPukWaAdXvYNsR1yC\n",
       "JloEuwbhikuv1TrDBB3nDfmWhE+IbdueMxrDLQdVS5m9Zj97xUpFmogqy/Xr2/0buUmq4zKS3N/s\n",
       "6b/ewdJw+j1KbCazFFTBWBhvlYxpqNZcuYddPkJ2LsEc8I1EBykbQj34FTpRBHAzDMf7I0O0lReO\n",
       "E4VyT9gz0krUK/1732J88N8ML0pv4Nl5RmEUG3iOMgN79PM4IJM6C5ackNhHoueuPhVtikmedh5K\n",
       "HtLHPYA/2Pb3SnAD3vQ3agvirfjZFbINf5As8b7vknyWc+62d8u7EUpzhJA6DLI0vTvJlR3o6UU9\n",
       "LNCPcKCYbjzA8Vw8ayWI/JXx71remD7uDMRQFtSd89XbsSphGewyXZXMvFr/udN+0bVb0UHNqoLG\n",
       "xPd5zRefRjALdyySawPhCAm6yXG3zigUDN50GtCqk80GNA14Ztr532oaVOtxnWkxn1mG+IRPwc60\n",
       "H8PLHcuRCmtmBiSlPdgVcqpzKwNu7YyKQALBB3dUzhsRQBNjtY6FMBhratPSBooWxMvNHDrIJVwB\n",
       "DV88rjwR3iSnYZ6VFVp9ISZUlxnqhvCXj/GoWiwR7bx0n2jqTwmtz0le+J8v7RJuwoW8D36dCzsL\n",
       "Y4iDMsy+gnH6JAVv7jHj5aoSCxmNpVX2yTzHQHmOPwYuWrkN9/lmHN6HvSd71f9mSp5WpPiMriiG\n",
       "9MFm/SgsZBXE/rsLHzSqF+fu18wPd1Zb0elM2KeTBjzrbDm06lUmmPKiqPedh1HOmrG4+Xdxu4Qj\n",
       "IDDIeEz32feioJaVzosBpTquATupE7HsSAMjltcetRm1DA2mks13y/QAyVafZ6cAU3znd9v0hyoc\n",
       "ySLwW4o81k4hRmUG/x33oTj+j4MSwAf5jKHt4a63oe5xnZsKk283r4jJ4MS0AA0qBuH5NnEdxnxG\n",
       "h8PaKKez645UcnBAKOTv8OneV0frXJlL+pdpf+gL0YKkMhMgaT2NWYBJ4+oQt5qpK6RkAaml1Hdf\n",
       "itl0q8q/zLC+6ZgnFhAf6I/rJHGNH87fQcWM/wXWzXB22znsPsHwV21kWYmWgiGkVutow8QOaf5F\n",
       "60AAAAORQZuxSeEKUmUwII///rUqgAYL5/EzVTAAcW3GzWRc/fw6+DQp7zPIsTR/BppSlQez66e2\n",
       "8u83XTTYNBkRikO6GUwg1oekl1OKlBgzRaKMEWd7IDtlhV2UnUnZcwczL/8Y3MzY1cwrdz0MRAWc\n",
       "biJQiCP5aEgAScrcOzEyda+GoFGqHwJk0AOPQSTkukJdUbNkR39R8HKcNOjh3ccdOpDJzNwJq3h7\n",
       "LTqJHANWagaD2VEFhG8qg6UuXEIVuw/l1UjFfRgqv7uRd/saTGxKzLur+Zrzv1/06n338O5MqpoG\n",
       "dDATdafuM5tlFR4x7xNKcB//UW60a6pzc7eQ2N8nmNrRErdLaYw1bgpNQkGGuGdMzGwwYzAfMbhV\n",
       "Ab8LvV29sV87WrJsWf6FPFAo9if08hS8KeNKq9cewk8vjqHnzDpYYQMzJYWY01qQVcvAF+0ZnYXG\n",
       "tre8MD8uDVUCRiTTOz/AsPR40/bLEm/5tO0rtoEDXnDiwssnHsSNjTe2v45nQHY4wHqSWA3yW+1w\n",
       "WoklMgJEHmYjcmZNgUDRhub1Hpb7tgW/Xs8TnYBWidPSemyrGKsFuzs2eM6engBKeUgM3YEtYhv3\n",
       "2szknAK7Oklj3E57Xkb2/a+VxITdVXUHduGLp1qTzUXJA1pV/4hFfktLeIwakfXd4pMzL2IaMdLT\n",
       "YJMNDAaodRfH8vY9uEEV2InVPcZDbA4HkXmFJeXXGQ3Lad4z7/P+Y6c3/EOuTAZ6pszalwjsXhlq\n",
       "Y8ff8H0Dkif3duyEb8uy9Y/pJNrB1gmO8HCksDnByVsrV2/P3Rhj/9fioU6nZq6Wp/x6VL0k+QH1\n",
       "sks1VFkW4Fm8CD8NHn/6mSZss9ifkge9MeoltVoXpjTl0kAGvX5rUBnuS3WcDA//0lgVHlCtEXhb\n",
       "p4wIPlUE28NUJq2PqxVVs3GIs7DB3Ed6Yqd7cj6hELPY8uFJMQOKv7szcH62gYWG0w/d2B+r0Jx8\n",
       "lnkUK4HO+sOn5VUrZaM/uThiHkgqd4ha3U0gn0MfOi5X7yaktWtaoiCiG2do1RNOdwCjUIAtJGAP\n",
       "trJPIzXzf8oAyfCna3FOfBcnHoLoHG/c4KJQfdQkmWEB8QYuz/Hoa8agpfaVK7btukfqFB75WXuG\n",
       "oQz3PrlSvKHnaXsvqK6nhsE2KmhO3WpQeNvbDZYFUqUAxK2ANSgOVFtp53e1aBGToHmmsTFOqRkg\n",
       "TwRjF3PsGAAABRRBm9VJ4Q6JlMCCP/61KoACugXBPFeIAHMRuIiLzpYLbDl71xTlmqG3/8VNCF0o\n",
       "92tKJfbDGYVFgeycLQs0TRsUpFBSHwVI5o09p7t3fdBAC86wVrBK4tRNs/cTuEOrmFwZEmB9Nq2I\n",
       "Fhdxep3sBETcrYOHzfhC0uKoW3MoUR1j68OsickZY71kUnZMwrvTkChjEEpLO3x+fD+n3jpcoJKC\n",
       "+ZJpcP4Z4b2yG6XlANM9d935DBLsubBvyHZXScMFe4kdcP6tmHnw5VZgdhasrYOl2SpJlVBbailL\n",
       "Z6JbwRNtv+JMROdA2Jg0Fk5Np4XJcUTObjMZ2b2ZhRP/frt+fAYpAgSoArgFif5kZJWu0lba8Bk+\n",
       "s2AwByI7TgRayu2efGdw7gEhX8NkW7o1Cho+fxf9VJc/wb1Ky1zPijnpen7rP94j00rigbjNEO/M\n",
       "Ipf/YBrWUzGJtKT6vakVRYi0G0pqMiF+fSlzpdfiqfQYlNEAhXpuLqKD3+ckh8JiaeAB3U8IZmVL\n",
       "lO8qNdBa61LCJYtjFl8yN0CAh1cdkPVH+Lf2MzHP4zR/ht9Z2F6Jgw573plRwpTTvH1yWEoEpf9o\n",
       "EILN+VsaOk0jGUdMjCkCbbbwHSQs/WVnhjSWgEo5+VwCvQ5Pp7dRePqSTouj1UZibqFG96YNBifD\n",
       "rADZ2x+zwieXCOLYDNMjawUIErZu01FIdUvtQ9GCxawLdL4ueKBWcni3HqDAN0oOqMp3UNU4d25Z\n",
       "/roskJErsrA60UfGa6R9IcRJ/pIrnb8Yke7aWg0JSJHdn+EDuHlPjhf1oCQoY8kXFADJfwGEQ6FB\n",
       "RnBgRdNPwYNIDaRqleAqfigHEicjx+S70k3FtHDT0B6CQ9LZDJ+ScpThFZrwol2YI52k0K1eN2qq\n",
       "5o7ckn6HvUiNj/bcHwmFt8+b78Q6o1W0iBxYuD2/WCghYtK5nzgD3dCv2V2T8rZUhj7UADx8fP41\n",
       "ri+XpyoXbAadvaFu8HxMy0izzkXRjfTJ72M72uS3mTQ5JHNyX5N/IpM2B4QmxzVshwcHIIJs3atq\n",
       "zI5LNuekVQ88BjznuIECkqYZjGst3w8auwvme4GzPhdjXk8a2Ii4BzgWpY5i891Qrund6gGn2bv7\n",
       "DdT9AGdKFqNV8rADRYEuwKUTqV2AGR5bXiL1fGLV4q0cp85/039EBhw+aMBNfkzkIvfZG4Nm48A7\n",
       "JCo4/OqXoqNMdpDYptCzVNRfKvGhq2g///tc+HKC8qUI+UauKCXZO1G69aQhoPA4Ii+6MpXklzxK\n",
       "iNBrFuvytMmGeQLGWXu00/n33GnTpEDLPQTGFkn+9O/rDWI0OdSCpM/fZAcbBXEh3ELs5FQ8GuCw\n",
       "UlofaiO7zBZbWenV6PZ77soZD5f9j9VDbc0aKh6i8HhtRLdtIKN5YCOwDyXPrVIC898SwUUYNLi1\n",
       "NW6jGi/7ZJ/bTjveTcfKsS07FIwK9d7RaxwtmYrpBb0GN1UHBSaJgRB7qzmKNktUoJE0+7RNzgMW\n",
       "yG4eL4PdCsqTkw66ezU1d3dSLEhLkHZYJxDV+BOo6GsiskQ87/3EKYqQh18Gntdzg434kGKrOjhH\n",
       "Yul8Uji0GILp8SdPhiAOADjTTrSCnLVbYdFTuqgHpSZ0Fg+BdocSoPnb7InSYIQZSczLvyUcg/4x\n",
       "VljZywIGA2non3iH8iKEOMawRwNy25Zv0VwqiB3/yXuSY4KU7Gg8YiO7wN7YnfgXLnsSQ/AuhlHx\n",
       "AAABrEGf80URPDv/AAqYHdR4y6AHBfjifgJsNVkUEEt9oUxL5oWh2J9xfnTxydhOsyEtKgRmh6lP\n",
       "Jvrf0VhK0VmX6uHdgtgtBgW7vAW/vrxjxVgMNl4hz+xoB6hpCatwhP46ffNSZLCe6JeMGAaGVWcP\n",
       "CRSt0G3sVKGSoXsG4Mbcr4yn30sH06IXMxhpqB6UmFzpVaP37xP78kTqnEfwwbWmy8SUUzKiwT0A\n",
       "ukICyOX41efwncjDDgJcYVsFynTeYgNc8a7Yq5+C0LZNzVB7SRw9bD+sTLudoWX7U99Z/bJv862G\n",
       "lfjYHCi1RS3KcFpLOVZE5Y1Ojd/zmXgxBxYMOcQd/ucQLvUA+6prvjRGF0wXJyZ47rsKCcI19kME\n",
       "0u7avwVSzOjXuVsHYn3k1MOHg2MG7oG+LdEDFzQLW4G72qBe8DdqcYbxuf9yLqX9NvKqhCktrAih\n",
       "f1BRUjOPTOaM4sIIwiy5/77EW7CqsRw3Tl2NRfptbIBRmmMPJ1qxxB+MfwojpzhfewF8BjvDn3+1\n",
       "NAs0+wcDA34QQ3boFr1q95CprxRyo+Md4AAFMJU6xBrUAAABQwGeEnRDfwAO2gLkAN2QjOVr3fdY\n",
       "Q+haEwD25pMsdmR37TEVw6XA6JPiSi4al5EDikAjuW0FnNvYrrme2XZgFuWoyK9OpYaAhTXcF8Wg\n",
       "rNB9z0vI015Zgthoo3e2CIf+19u3evv+1rM06geNu6RwECMSnED0mWJEOD0EYYES/8qsWUQVkAWF\n",
       "zSVlq17Blo7PY3HHxsbku9FI9OOZ6C7/c/BizGGEfqY+OCJ5ZXFbj9Pu3Bok/X7Kui/gnrkSJ3dy\n",
       "dyMwjLw4tqdKr5ID7tu/F0DsOBagLmZPrE7ev1WXhZfq+L8fK6GheX8YZGz2N63BtsIM4fglDR5e\n",
       "mSdTddr1JhFM40KDeX+Edr5focYPeCs5tXNbo53naIaGdc+NfvGS15A3xrxKgwECTDljdkZ3rk4R\n",
       "v5tOZCrGrAloXM9kyAHuHpWwAAAA6QGeFGpDfwAO39yAEsn/EXULJORqFHP0RU44Lsm9QWwkKOAN\n",
       "d/BOvQ8mqO7fmz6mlbVLQ1efJwOtxnbCdvSgBaJj2/zILGA2jMZezfsKV18DxVZC+GK/4KXXcdbi\n",
       "EKURXfBNnQzAw/6pzyAM8gPHXGN50wfRWcrMHPT6PLuAWtrOjdT5adb7nF4YU23Z2GEUh1uK8/AT\n",
       "B5M1q394xXg5ZOB+HPBVNMUU9gAZIZnUPrImBnl6prfIhkfD88qS82qfYJ/ZO6pGE0+r2rDSz39X\n",
       "BbtXI63rhhrcBFPuqDPUSMw7bh6RmQAYSkGJAAADREGaGUmoQWiZTAgj//61KoACuxzfXS8ARvas\n",
       "Ez/d/MtoSsDN3t8iaj4I9POYBJqI9ww/tXZUpvCFsEpCP8UVjieDt61UXxvh/p2vlq9+7az2b//J\n",
       "nvtzwd6NLROL1HY3sAThv3Phw5Z48XcVud17SCSCpuBhikPOxxlObK5aSkhMXY3/Z+LoI3RQW1ge\n",
       "EyRurLn1DiprbslqHiTHyIpeG4P+K3UKSLQWWl2SOWFsxc5/ENgqvEMBGd1aWtSnDUwwDeJ8+IEZ\n",
       "99DQ80qB8NEHIfjJE73W+8ZJs/wVjhtKGvqIYov7QIDm/jSQLvHJwBMmAj7FLs+JfuCIOKQF5hTA\n",
       "zMp3lWHDqbxKaSvirRCBu+R6i9Km9M6jGZOb27HQcSy4F1GnoVJwn3rvLK+sZzPbZHgQqP3b99uB\n",
       "TqbYqfR3Dueni5MjwHfKSUlzDzfSmkJ6Zzy89iyvr1oUowNmap8/JeCb2sgNS0YbtncgeFpNlyS8\n",
       "wK7AlBr4xl4uuHSoe8OA7GXTJ25wIBmZrEWtjmKmEEZmQcbBgPfLk7VjyyKVpU+98efDEbQ6bDYP\n",
       "SFyRupbNOs/3ze6mwA75B4Z4gKThjxA/OQVMli/vV7qGnv6A6jbKQLGNJmI9q0LI0ag2spCE12mb\n",
       "JCETVkifv4k3lvuqgUtt2XGhjGGvXk8xVUaUzKsUgJN0Sluj0WpaHAvfgSLYR72KB4KJFhXHucby\n",
       "DTsDDK+a4M9uIOmNCHcWER9NPyrzV3qE8hjfNDl21EcUEKdHUCVQ+Lp2lCCPjq14SW/2jYTsRtU2\n",
       "oLM1U2g4g9qo42cWq57SWqoZGx/TwMu5+EqI478r1dMsTCWJ9rpMluEWZNP6xH7YY/VersJQ0yRx\n",
       "LK/F1xDf5uoxfcbZBDNRWhWIVJU9f4+TocqjLvrCTvVQ/bdrVPNfWghKlXIFFyZtVWpcnGK6sYeg\n",
       "YQ1JRKmtXDaG/QnHX7v3LZm3kQXyDCXPVMG0XW21IIDs90qffEW5snIWDrOk+aJwFmcOqzpOiYrg\n",
       "Oy6phUfuX9akdNZYvkWH/VnjY2X/nxGLf6nCxfq1hCJyp/mYRiA3ilyWTMZTRynpJePnfuyzt0Ao\n",
       "tB5KnrFx2SMeAAIeAAAA/EGeN0URLDv/AAp3h6u3TolABwkls2QuZKWspS1tfYvmhL2jaWwzmgIe\n",
       "vXut6jrnVPHix6JRm/EHdvA2awr2ETgUpjmkr7Q5y6P4VphzlSMrLADHE0yd5yy0lGESrWKILPT1\n",
       "N74FJzvHmzxcpRwvpeA6w/Q+I+lHY+0ULfXeM0KHpG7/ZtzONDPJKPFw9A/ozZPBAXtsUH+e1NlK\n",
       "R8Ud82IozzKZWJNdHYRtCvlIQyCrSX4hdr7YofUZxE9uzoDFNketTlLHKVc6eiWx51laZk06yz+U\n",
       "EuQSO/TtzNrXmQJ365Qf+bvDAYo+cc6+QHX/wh/tF5dgWEGYxLNpgQAAAHUBnlZ0Q38ADqk+4NJA\n",
       "AukQvOWNT921fjJFgNo1u7ykdbsbEb18Ou/utiyyFX0PFAqS52o71dlarH2FagavmqOqe9lWCZiW\n",
       "NXCqz8w6IY9cXMuHEUp9HIN2wNT39IkMsVCGQBtVP+/fCAhvaOaqm7hQAPGYmPEAAAA/AZ5YakN/\n",
       "AA7SfE3meFsmgo9nt8sDUAIfh2O3C7qGLPBLuY8SyuVhZvOFI3717+3LseJNFhRtTgVR4wAeL4LK\n",
       "AAACCkGaXUmoQWyZTAgj//61KoACuZSeJwAIiKvCVRr13NMjI7n4x/sURwLurD9lzkMghSrcY6xG\n",
       "mV8neieJ8B8k2iqO72JqPJzGdxh2r1S7s5iv18Z+T7Zalw4VF/rq1F/ePh7vQJ+knfSCKz5lGMGe\n",
       "jEjKhYl8/je+8J8O5K9pN0AINOCq7MAmTHv+RJpYzk7tljZ9VD/jlF30q7tCCmdlVNNp9C8K8r0e\n",
       "2HAfIp5lKxVpg9ugoW5BkhauN37MvXc9W9ZhQPm603GfceDUh1MPtXZGptC6pOEQh3WWlcVjOEUB\n",
       "j0SB/7ryZvPpAMp94Dq8knoumMcrkiSp/8n0V4zRg4kbXluK3bAgDJ1esX5axUdMZ/eszf2403Fl\n",
       "UU6aRuHTspHwU6DD4O933I6/CNhAjNnElYp0QfXQiQEQ5lWyuzMRPTKO7074LF7XVKuFioRUN6ju\n",
       "VaykrOF9edWVK7e6zeAvKNN+dF/z4mKzruL9xf5BnQE48Q/4GILOqLddf8GBroybMDepHq7ApN6g\n",
       "1113ULRp+hPIhrNS2c+E/LgcOMsOFkSU9lYJWKMLoQJWATEpFEU1XFR7ZiCSGbhg03eK1uPjoGbm\n",
       "5l7uUBRHmcB/YercQuK+yxLXaGhDxA3YPBM4FozhNsH4BPtmHn357v46OcmfZVtV9ftufgdmYk1C\n",
       "EWpZYSSwIdlHgABswQAAAIlBnntFFSw7/wAKd4RIjCACVeFOhMPqXuosPpNBgpRIlXzCE0Z+THLP\n",
       "iljBZYhMML08B2x6HPaOUIEdgooh+X2BKsO6Xdbjn1NCjH5dmW9TZAfvsCNIeiEwqG454/65oux3\n",
       "lIOpMq8dOHGy0n4inzdWyzc9eBxBHZDc3vZ2gsLb3tcLgHKMr6aG7QAAACQBnpp0Q38AB91U8Hhy\n",
       "ZkCuXJPKlSMMN7M4LFnp8EHAAPzaBnUAAAAiAZ6cakN/AAfdVPg3gDdW/fWpSZ6EhqntNKqdDAAO\n",
       "baAm4QAAAPFBmoFJqEFsmUwIIf/+qlUACt+dPABdSJ1uRrT45gK7yJ/vO3Yl61iltP9GSD3Be0ml\n",
       "8oN9Zq0lr/28fSmy7QvRIdOS2BY6cmXKqQdRgR2+IobmoaUlj22AisBcyFTDc/cDWyEH/T9c6J2z\n",
       "/GrV3sAsOxTtT27r91iwuRksn9BMlXX3R6bb4SZgJqEmeQBN6eRTl5xSR2tM/grk98mWVKJujGeW\n",
       "ffl9TFEAo9vrzQDKLkNrNw0c++6qpO0B3bKjAVVa+7IXpRDvLDybuMHfSEQ2OeiAsp2fTfJbivfo\n",
       "oNV8kQ7uazSA15SQ7QOErBAAAPGAAAAALEGev0UVLDv/AAWVzjPVaJyDGuHsyySKcVvmn3LmdKU2\n",
       "frsadBYDwDdDLDwIAAAAHgGe3nRDfwAO0NBYbpLSwImWr0/y7kSkqdPAAdkG2wAAAB0BnsBqQ38A\n",
       "Dn9w12c7Jxu8yEmHg6sdn4AAg4Z8wAAAAKlBmsVJqEFsmUwIf//+qZYAFTWGXMAJVorMp+lDKYQE\n",
       "sRzO10e2EL3obxAakTe1+T4XA2eeyxMMb3TtUBWi9e12I14J6RzDQe3mu2H2gfCLXVjpArUsy2ca\n",
       "6MGbj4OWbax5Z6Aa0q52EBlq6cv/g/GsDj/apouVUu+uf4pyfrIoVdi1DetXNsXBQirs8VzVcc3Z\n",
       "rg8wB7mFRFg35/Yadf1ToZqSpBXKAD0hAAAAKkGe40UVLDv/AAqZj6Gi8ajQLygRXcyZzw8C852y\n",
       "JWLVWDeEyAkgAERA/wAAABsBnwJ0Q38AB8NPoJ0LHFSN8Vrt+rVAADDRHhEAAAAbAZ8EakN/AAfE\n",
       "oqFVAH4rNsQdGVodUAAKeKZ9AAAAGUGbB0moQWyZTBRMN//+p4QAElBjwmAAE3EAAAAmAZ8makN/\n",
       "AAfFSs5qdqtclU3AS0KuCUYFw3SudMZO7gLMAA3wHzEAAATPbW9vdgAAAGxtdmhkAAAAAAAAAAAA\n",
       "AAAAAAAD6AAAD6AAAQAAAQAAAAAAAAAAAAAAAAEAAAAAAAAAAAAAAAAAAAABAAAAAAAAAAAAAAAA\n",
       "AABAAAAAAAAAAAAAAAAAAAAAAAAAAAAAAAAAAAAAAAAAAgAAA/l0cmFrAAAAXHRraGQAAAADAAAA\n",
       "AAAAAAAAAAABAAAAAAAAD6AAAAAAAAAAAAAAAAAAAAAAAAEAAAAAAAAAAAAAAAAAAAABAAAAAAAA\n",
       "AAAAAAAAAABAAAAAAfQAAAGQAAAAAAAkZWR0cwAAABxlbHN0AAAAAAAAAAEAAA+gAAAIAAABAAAA\n",
       "AANxbWRpYQAAACBtZGhkAAAAAAAAAAAAAAAAAAAoAAAAoABVxAAAAAAALWhkbHIAAAAAAAAAAHZp\n",
       "ZGUAAAAAAAAAAAAAAABWaWRlb0hhbmRsZXIAAAADHG1pbmYAAAAUdm1oZAAAAAEAAAAAAAAAAAAA\n",
       "ACRkaW5mAAAAHGRyZWYAAAAAAAAAAQAAAAx1cmwgAAAAAQAAAtxzdGJsAAAAtHN0c2QAAAAAAAAA\n",
       "AQAAAKRhdmMxAAAAAAAAAAEAAAAAAAAAAAAAAAAAAAAAAfQBkABIAAAASAAAAAAAAAABAAAAAAAA\n",
       "AAAAAAAAAAAAAAAAAAAAAAAAAAAAAAAAAAAAGP//AAAAMmF2Y0MBZAAW/+EAGWdkABas2UCAM+fh\n",
       "AAADAAEAAAMAFA8WLZYBAAZo6+PLIsAAAAAcdXVpZGtoQPJfJE/FujmlG88DI/MAAAAAAAAAGHN0\n",
       "dHMAAAAAAAAAAQAAACgAAAQAAAAAFHN0c3MAAAAAAAAAAQAAAAEAAAEQY3R0cwAAAAAAAAAgAAAA\n",
       "CAAACAAAAAABAAAUAAAAAAEAAAgAAAAAAQAAAAAAAAABAAAEAAAAAAEAABQAAAAAAQAACAAAAAAB\n",
       "AAAAAAAAAAEAAAQAAAAAAgAACAAAAAABAAAUAAAAAAEAAAgAAAAAAQAAAAAAAAABAAAEAAAAAAEA\n",
       "ABQAAAAAAQAACAAAAAABAAAAAAAAAAEAAAQAAAAAAQAAFAAAAAABAAAIAAAAAAEAAAAAAAAAAQAA\n",
       "BAAAAAABAAAUAAAAAAEAAAgAAAAAAQAAAAAAAAABAAAEAAAAAAEAABQAAAAAAQAACAAAAAABAAAA\n",
       "AAAAAAEAAAQAAAAAAQAADAAAAAABAAAEAAAAABxzdHNjAAAAAAAAAAEAAAABAAAAKAAAAAEAAAC0\n",
       "c3RzegAAAAAAAAAAAAAAKAAAFhAAAAInAAAC3wAAA8oAAAK0AAAB2wAAAgYAAAGPAAAFLgAAAdoA\n",
       "AACwAAABEgAABI8AAAKMAAABtgAAAYIAAAObAAADlQAABRgAAAGwAAABRwAAAO0AAANIAAABAAAA\n",
       "AHkAAABDAAACDgAAAI0AAAAoAAAAJgAAAPUAAAAwAAAAIgAAACEAAACtAAAALgAAAB8AAAAfAAAA\n",
       "HQAAACoAAAAUc3RjbwAAAAAAAAABAAAALAAAAGJ1ZHRhAAAAWm1ldGEAAAAAAAAAIWhkbHIAAAAA\n",
       "AAAAAG1kaXJhcHBsAAAAAAAAAAAAAAAALWlsc3QAAAAlqXRvbwAAAB1kYXRhAAAAAQAAAABMYXZm\n",
       "NTYuNDAuMTAx\n",
       "\">\n",
       "  Your browser does not support the video tag.\n",
       "</video>"
      ],
      "text/plain": [
       "<matplotlib.animation.FuncAnimation at 0x7fac7e0fdd30>"
      ]
     },
     "execution_count": 12,
     "metadata": {},
     "output_type": "execute_result"
    }
   ],
   "source": [
    "fig = plt.figure(dpi=100, figsize=(5, 4))\n",
    "plt.scatter(x,y)\n",
    "line, = plt.plot(x,lin(a_guess,b_guess,x))\n",
    "plt.close()\n",
    "\n",
    "def animate(i):\n",
    "    line.set_ydata(lin(a_guess,b_guess,x))\n",
    "    for i in range(10): upd()\n",
    "    return line,\n",
    "\n",
    "ani = animation.FuncAnimation(fig, animate, np.arange(0, 40), interval=100)\n",
    "ani"
   ]
  },
  {
   "cell_type": "code",
   "execution_count": 13,
   "metadata": {},
   "outputs": [
    {
     "name": "stdout",
     "output_type": "stream",
     "text": [
      "['ffmpeg', 'ffmpeg_file', 'avconv', 'avconv_file', 'html']\n"
     ]
    }
   ],
   "source": [
    "import matplotlib.animation as animation\n",
    "print(animation.writers.list())"
   ]
  },
  {
   "cell_type": "code",
   "execution_count": null,
   "metadata": {
    "collapsed": true
   },
   "outputs": [],
   "source": []
  }
 ],
 "metadata": {
  "kernelspec": {
   "display_name": "Python 3",
   "language": "python",
   "name": "python3"
  },
  "language_info": {
   "codemirror_mode": {
    "name": "ipython",
    "version": 3
   },
   "file_extension": ".py",
   "mimetype": "text/x-python",
   "name": "python",
   "nbconvert_exporter": "python",
   "pygments_lexer": "ipython3",
   "version": "3.6.2"
  },
  "nav_menu": {},
  "toc": {
   "navigate_menu": true,
   "number_sections": true,
   "sideBar": true,
   "threshold": 6,
   "toc_cell": true,
   "toc_section_display": "block",
   "toc_window_display": false
  },
  "widgets": {
   "state": {},
   "version": "1.1.2"
  }
 },
 "nbformat": 4,
 "nbformat_minor": 1
}
